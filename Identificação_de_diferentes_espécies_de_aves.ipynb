{
  "cells": [
    {
      "cell_type": "markdown",
      "source": [
        "#PUC Minas - Ciência da Computação\n",
        "Disciplina: Inteligência Artificial\n",
        "\n",
        "Integrantes do grupo:\n",
        "Gustavo Garcia,\n",
        "Igor Paschoalino,\n",
        "Rafael Clark\n",
        "\n",
        "\n",
        "\n",
        "Trabalho: TP2"
      ],
      "metadata": {
        "id": "j0VzdliH7NtI"
      }
    },
    {
      "cell_type": "markdown",
      "metadata": {
        "id": "-IpikX4Cj7Yn"
      },
      "source": [
        "# Importação de bibliotecas principais\n",
        "- Nesta seção, importamos todas as bibliotecas necessárias para carregar, processar e avaliar o modelo de IA.\n"
      ]
    },
    {
      "cell_type": "code",
      "execution_count": null,
      "metadata": {
        "id": "wx9_1tsyP_Cv"
      },
      "outputs": [],
      "source": [
        "import os\n",
        "import time\n",
        "import numpy as np\n",
        "import torch\n",
        "import kagglehub\n",
        "import matplotlib.pyplot as plt\n",
        "import tarfile\n",
        "import torchvision\n",
        "\n",
        "from torch import nn\n",
        "from torch.utils.data import DataLoader\n",
        "from torchvision import transforms\n",
        "from torchvision import datasets\n",
        "from torchvision import models\n",
        "from sklearn.model_selection import train_test_split\n",
        "from torch import optim\n",
        "from torch import optim\n",
        "from sklearn import metrics"
      ]
    },
    {
      "cell_type": "markdown",
      "metadata": {
        "id": "uI-ewNmOkCln"
      },
      "source": [
        "# Configuração de Argumentos Pré-definidos\n",
        "- Esta seção define os hiperparâmetros e configurações essenciais para o treinamento do modelo de IA.\n",
        "- Inclui parâmetros como número de épocas, taxa de aprendizado, penalidade L2, momento, número de workers e tamanho do mini-batch.\n",
        "- Além disso, verifica a disponibilidade de uma GPU para definir o dispositivo a ser utilizado (CPU ou CUDA).\n",
        "- O valor de 'lr' em 'args' é atualizado para testes"
      ]
    },
    {
      "cell_type": "code",
      "execution_count": null,
      "metadata": {
        "colab": {
          "base_uri": "https://localhost:8080/"
        },
        "id": "BzQwGwfVpKSq",
        "outputId": "892852ee-211e-45b1-9f05-c85a2c93ee22"
      },
      "outputs": [
        {
          "output_type": "stream",
          "name": "stdout",
          "text": [
            "cpu\n"
          ]
        }
      ],
      "source": [
        "# Setting predefined arguments.\n",
        "args = {\n",
        "    'epoch_num': 5,      # Number of epochs.\n",
        "    'lr': 1e-4,           # Learning rate.\n",
        "    'weight_decay': 5e-4, # L2 penalty.\n",
        "    'momentum': 0.9,      # Momentum.\n",
        "    'num_workers': 4,     # Number of workers on data loader.\n",
        "    'batch_size': 32,    # Mini-batch size.\n",
        "}\n",
        "\n",
        "if torch.cuda.is_available():\n",
        "    args['device'] = torch.device('cuda')\n",
        "else:\n",
        "    args['device'] = torch.device('cpu')\n",
        "\n",
        "print(args['device'])"
      ]
    },
    {
      "cell_type": "markdown",
      "metadata": {
        "id": "XaB6MOc1kiu1"
      },
      "source": [
        "# Download do Dataset com KaggleHub\n",
        " - Nesta seção, utilizamos o KaggleHub para baixar o dataset \"200 Bird Species with 11788 Images\".\n",
        "\n",
        " - O caminho dos arquivos baixados é salvo na variável `path`, e `data_dir` armazena o caminho base do dataset.\n"
      ]
    },
    {
      "cell_type": "code",
      "execution_count": null,
      "metadata": {
        "colab": {
          "base_uri": "https://localhost:8080/"
        },
        "id": "udawJ5tzhtgI",
        "outputId": "b2f5638f-902e-407d-95f4-64630fc62a04"
      },
      "outputs": [
        {
          "output_type": "stream",
          "name": "stdout",
          "text": [
            "Caminho para os arquivos do dataset: /root/.cache/kagglehub/datasets/veeralakrishna/200-bird-species-with-11788-images/versions/1\n"
          ]
        }
      ],
      "source": [
        "# Baixar o dataset usando kagglehub\n",
        "path = kagglehub.dataset_download(\"veeralakrishna/200-bird-species-with-11788-images\")\n",
        "print(\"Caminho para os arquivos do dataset:\", path)\n",
        "\n",
        "# Atualizar o caminho base do dataset para a variável `data_dir`\n",
        "data_dir = path"
      ]
    },
    {
      "cell_type": "markdown",
      "metadata": {
        "id": "r6bMC-H1krZ-"
      },
      "source": [
        "# Explorando o Diretório do Dataset\n",
        "- Nesta seção, utilizamos `os.walk` para explorar a estrutura do diretório base do dataset.\n",
        "- Exibimos os diretórios encontrados (subpastas) e limitamos a exibição a apenas os primeiros 5 arquivos.\n"
      ]
    },
    {
      "cell_type": "code",
      "execution_count": null,
      "metadata": {
        "colab": {
          "base_uri": "https://localhost:8080/"
        },
        "id": "CSWyGQNDj8Xg",
        "outputId": "617036ad-96ab-4e69-da78-3e0c241e3861"
      },
      "outputs": [
        {
          "output_type": "stream",
          "name": "stdout",
          "text": [
            "Root: /root/.cache/kagglehub/datasets/veeralakrishna/200-bird-species-with-11788-images/versions/1\n",
            "Dirs: ['CUB_200_2011']\n",
            "Files: ['segmentations.tgz', 'CUB_200_2011.tgz', 'attributes.txt']\n"
          ]
        }
      ],
      "source": [
        "for root, dirs, files in os.walk(data_dir):\n",
        "    print(f\"Root: {root}\")\n",
        "    print(f\"Dirs: {dirs}\")\n",
        "    print(f\"Files: {files[:5]}\")  # Limitar a exibição dos arquivos\n",
        "    break"
      ]
    },
    {
      "cell_type": "markdown",
      "metadata": {
        "id": "d_K-YRPxkzlr"
      },
      "source": [
        "# Extração do Arquivo Compactado\n",
        "- Esta seção lida com a extração do arquivo `.tgz` baixado, caso ele ainda não tenha sido extraído.\n",
        "- Após a extração, o caminho base do dataset (`data_dir`) é atualizado para apontar para a pasta de imagens extraídas.\n",
        "- Finalmente, verificamos a estrutura do diretório para confirmar a organização dos dados.\n"
      ]
    },
    {
      "cell_type": "code",
      "execution_count": null,
      "metadata": {
        "colab": {
          "base_uri": "https://localhost:8080/"
        },
        "id": "Oi_m2wZbkYJq",
        "outputId": "23a55252-13ef-43fd-a6ae-17784112a7c3"
      },
      "outputs": [
        {
          "output_type": "stream",
          "name": "stdout",
          "text": [
            "Root: /root/.cache/kagglehub/datasets/veeralakrishna/200-bird-species-with-11788-images/versions/1/CUB_200_2011/images\n",
            "Dirs: ['024.Red_faced_Cormorant', '020.Yellow_breasted_Chat', '091.Mockingbird', '194.Cactus_Wren', '151.Black_capped_Vireo']\n",
            "Files: []\n"
          ]
        }
      ],
      "source": [
        "# Caminho do arquivo compactado\n",
        "tgz_file = os.path.join(data_dir, \"CUB_200_2011.tgz\")\n",
        "\n",
        "# Caminho de extração\n",
        "extracted_path = os.path.join(data_dir, \"CUB_200_2011\")\n",
        "\n",
        "# Extrair o arquivo se ainda não estiver extraído\n",
        "if not os.path.exists(extracted_path):\n",
        "    print(f\"Extraindo {tgz_file}...\")\n",
        "    with tarfile.open(tgz_file, \"r:gz\") as tar:\n",
        "        tar.extractall(path=data_dir)\n",
        "    print(\"Extração concluída.\")\n",
        "\n",
        "# Atualizar data_dir para apontar para as imagens extraídas\n",
        "data_dir = os.path.join(extracted_path, \"images\")\n",
        "\n",
        "# Verificar a estrutura do diretório\n",
        "for root, dirs, files in os.walk(data_dir):\n",
        "    print(f\"Root: {root}\")\n",
        "    print(f\"Dirs: {dirs[:5]}\")\n",
        "    print(f\"Files: {files[:5]}\")\n",
        "    break"
      ]
    },
    {
      "cell_type": "markdown",
      "metadata": {
        "id": "WR4V9XuWlsBJ"
      },
      "source": [
        "# Configuração de Transformações e Carregamento do Dataset\n",
        "- Nesta seção, configuramos transformações para o pré-processamento do dataset, que incluem redimensionamento, conversão para tensores e normalização.\n",
        "- Em seguida, utilizamos `datasets.ImageFolder` para carregar o dataset e verificamos informações básicas como o número de classes e exemplos de classes disponíveis.\n"
      ]
    },
    {
      "cell_type": "code",
      "execution_count": null,
      "metadata": {
        "colab": {
          "base_uri": "https://localhost:8080/"
        },
        "id": "vX1JXh5diRk3",
        "outputId": "8ad74b0a-2e91-4c47-a1b2-f77df5f35b25"
      },
      "outputs": [
        {
          "output_type": "stream",
          "name": "stdout",
          "text": [
            "Número de classes: 200\n",
            "Classes: ['001.Black_footed_Albatross', '002.Laysan_Albatross', '003.Sooty_Albatross', '004.Groove_billed_Ani', '005.Crested_Auklet']\n"
          ]
        }
      ],
      "source": [
        "# Transformações para o dataset\n",
        "transform = transforms.Compose([\n",
        "    transforms.Resize((224, 224)),  # Redimensionar para 224x224\n",
        "    transforms.ToTensor(),\n",
        "    transforms.Normalize([0.485, 0.456, 0.406], [0.229, 0.224, 0.225])  # Normalizar para ImageNet\n",
        "])\n",
        "\n",
        "# Carregar o dataset com ImageFolder\n",
        "full_dataset = datasets.ImageFolder(data_dir, transform=transform)\n",
        "\n",
        "# Verificar o número de classes e algumas amostras\n",
        "print(f\"Número de classes: {len(full_dataset.classes)}\")\n",
        "print(f\"Classes: {full_dataset.classes[:5]}\")  # Listar as primeiras 5 classes\n",
        "\n",
        "args['n_classes'] = len(full_dataset.classes)"
      ]
    },
    {
      "cell_type": "markdown",
      "metadata": {
        "id": "f3EnyWwal1J6"
      },
      "source": [
        "# Divisão do Dataset em Treinamento e Validação\n",
        "- Esta seção divide o dataset completo em dois subconjuntos: treinamento (80% dos dados) e validação (20% dos dados).\n",
        "- Também configuramos DataLoaders para carregar os dados em mini-lotes de maneira eficiente durante o treinamento e validação.\n"
      ]
    },
    {
      "cell_type": "code",
      "execution_count": null,
      "metadata": {
        "colab": {
          "base_uri": "https://localhost:8080/"
        },
        "id": "UMkDbLp7lBr0",
        "outputId": "d933c4b1-39fb-4b83-fad3-6153544f897e"
      },
      "outputs": [
        {
          "output_type": "stream",
          "name": "stdout",
          "text": [
            "Classes: ['001.Black_footed_Albatross', '002.Laysan_Albatross', '003.Sooty_Albatross', '004.Groove_billed_Ani', '005.Crested_Auklet', '006.Least_Auklet', '007.Parakeet_Auklet', '008.Rhinoceros_Auklet', '009.Brewer_Blackbird', '010.Red_winged_Blackbird', '011.Rusty_Blackbird', '012.Yellow_headed_Blackbird', '013.Bobolink', '014.Indigo_Bunting', '015.Lazuli_Bunting', '016.Painted_Bunting', '017.Cardinal', '018.Spotted_Catbird', '019.Gray_Catbird', '020.Yellow_breasted_Chat', '021.Eastern_Towhee', '022.Chuck_will_Widow', '023.Brandt_Cormorant', '024.Red_faced_Cormorant', '025.Pelagic_Cormorant', '026.Bronzed_Cowbird', '027.Shiny_Cowbird', '028.Brown_Creeper', '029.American_Crow', '030.Fish_Crow', '031.Black_billed_Cuckoo', '032.Mangrove_Cuckoo', '033.Yellow_billed_Cuckoo', '034.Gray_crowned_Rosy_Finch', '035.Purple_Finch', '036.Northern_Flicker', '037.Acadian_Flycatcher', '038.Great_Crested_Flycatcher', '039.Least_Flycatcher', '040.Olive_sided_Flycatcher', '041.Scissor_tailed_Flycatcher', '042.Vermilion_Flycatcher', '043.Yellow_bellied_Flycatcher', '044.Frigatebird', '045.Northern_Fulmar', '046.Gadwall', '047.American_Goldfinch', '048.European_Goldfinch', '049.Boat_tailed_Grackle', '050.Eared_Grebe', '051.Horned_Grebe', '052.Pied_billed_Grebe', '053.Western_Grebe', '054.Blue_Grosbeak', '055.Evening_Grosbeak', '056.Pine_Grosbeak', '057.Rose_breasted_Grosbeak', '058.Pigeon_Guillemot', '059.California_Gull', '060.Glaucous_winged_Gull', '061.Heermann_Gull', '062.Herring_Gull', '063.Ivory_Gull', '064.Ring_billed_Gull', '065.Slaty_backed_Gull', '066.Western_Gull', '067.Anna_Hummingbird', '068.Ruby_throated_Hummingbird', '069.Rufous_Hummingbird', '070.Green_Violetear', '071.Long_tailed_Jaeger', '072.Pomarine_Jaeger', '073.Blue_Jay', '074.Florida_Jay', '075.Green_Jay', '076.Dark_eyed_Junco', '077.Tropical_Kingbird', '078.Gray_Kingbird', '079.Belted_Kingfisher', '080.Green_Kingfisher', '081.Pied_Kingfisher', '082.Ringed_Kingfisher', '083.White_breasted_Kingfisher', '084.Red_legged_Kittiwake', '085.Horned_Lark', '086.Pacific_Loon', '087.Mallard', '088.Western_Meadowlark', '089.Hooded_Merganser', '090.Red_breasted_Merganser', '091.Mockingbird', '092.Nighthawk', '093.Clark_Nutcracker', '094.White_breasted_Nuthatch', '095.Baltimore_Oriole', '096.Hooded_Oriole', '097.Orchard_Oriole', '098.Scott_Oriole', '099.Ovenbird', '100.Brown_Pelican', '101.White_Pelican', '102.Western_Wood_Pewee', '103.Sayornis', '104.American_Pipit', '105.Whip_poor_Will', '106.Horned_Puffin', '107.Common_Raven', '108.White_necked_Raven', '109.American_Redstart', '110.Geococcyx', '111.Loggerhead_Shrike', '112.Great_Grey_Shrike', '113.Baird_Sparrow', '114.Black_throated_Sparrow', '115.Brewer_Sparrow', '116.Chipping_Sparrow', '117.Clay_colored_Sparrow', '118.House_Sparrow', '119.Field_Sparrow', '120.Fox_Sparrow', '121.Grasshopper_Sparrow', '122.Harris_Sparrow', '123.Henslow_Sparrow', '124.Le_Conte_Sparrow', '125.Lincoln_Sparrow', '126.Nelson_Sharp_tailed_Sparrow', '127.Savannah_Sparrow', '128.Seaside_Sparrow', '129.Song_Sparrow', '130.Tree_Sparrow', '131.Vesper_Sparrow', '132.White_crowned_Sparrow', '133.White_throated_Sparrow', '134.Cape_Glossy_Starling', '135.Bank_Swallow', '136.Barn_Swallow', '137.Cliff_Swallow', '138.Tree_Swallow', '139.Scarlet_Tanager', '140.Summer_Tanager', '141.Artic_Tern', '142.Black_Tern', '143.Caspian_Tern', '144.Common_Tern', '145.Elegant_Tern', '146.Forsters_Tern', '147.Least_Tern', '148.Green_tailed_Towhee', '149.Brown_Thrasher', '150.Sage_Thrasher', '151.Black_capped_Vireo', '152.Blue_headed_Vireo', '153.Philadelphia_Vireo', '154.Red_eyed_Vireo', '155.Warbling_Vireo', '156.White_eyed_Vireo', '157.Yellow_throated_Vireo', '158.Bay_breasted_Warbler', '159.Black_and_white_Warbler', '160.Black_throated_Blue_Warbler', '161.Blue_winged_Warbler', '162.Canada_Warbler', '163.Cape_May_Warbler', '164.Cerulean_Warbler', '165.Chestnut_sided_Warbler', '166.Golden_winged_Warbler', '167.Hooded_Warbler', '168.Kentucky_Warbler', '169.Magnolia_Warbler', '170.Mourning_Warbler', '171.Myrtle_Warbler', '172.Nashville_Warbler', '173.Orange_crowned_Warbler', '174.Palm_Warbler', '175.Pine_Warbler', '176.Prairie_Warbler', '177.Prothonotary_Warbler', '178.Swainson_Warbler', '179.Tennessee_Warbler', '180.Wilson_Warbler', '181.Worm_eating_Warbler', '182.Yellow_Warbler', '183.Northern_Waterthrush', '184.Louisiana_Waterthrush', '185.Bohemian_Waxwing', '186.Cedar_Waxwing', '187.American_Three_toed_Woodpecker', '188.Pileated_Woodpecker', '189.Red_bellied_Woodpecker', '190.Red_cockaded_Woodpecker', '191.Red_headed_Woodpecker', '192.Downy_Woodpecker', '193.Bewick_Wren', '194.Cactus_Wren', '195.Carolina_Wren', '196.House_Wren', '197.Marsh_Wren', '198.Rock_Wren', '199.Winter_Wren', '200.Common_Yellowthroat']\n"
          ]
        },
        {
          "output_type": "stream",
          "name": "stderr",
          "text": [
            "/usr/local/lib/python3.10/dist-packages/torch/utils/data/dataloader.py:617: UserWarning: This DataLoader will create 4 worker processes in total. Our suggested max number of worker in current system is 2, which is smaller than what this DataLoader is going to create. Please be aware that excessive worker creation might get DataLoader running slow or even freeze, lower the worker number to avoid potential slowness/freeze if necessary.\n",
            "  warnings.warn(\n"
          ]
        }
      ],
      "source": [
        "# Dividir dataset em treino e validação\n",
        "train_size = int(0.8 * len(full_dataset))\n",
        "val_size = len(full_dataset) - train_size\n",
        "\n",
        "train_dataset, val_dataset = torch.utils.data.random_split(full_dataset, [train_size, val_size])\n",
        "\n",
        "# DataLoaders\n",
        "train_loader = DataLoader(train_dataset, batch_size=args['batch_size'], num_workers=args['num_workers'], shuffle=True)\n",
        "val_loader = DataLoader(val_dataset, batch_size=args['batch_size'], num_workers=args['num_workers'], shuffle=False)\n",
        "\n",
        "# Verificar classes\n",
        "print(\"Classes:\", full_dataset.classes)"
      ]
    },
    {
      "cell_type": "markdown",
      "source": [
        "# Configuração do Modelo Pré-Treinado (ResNet)\n",
        "- Nesta seção, carregamos um modelo ResNet-18 pré-treinado para transfer learning, modificamos a camada final para corresponder ao número de classes no dataset e movemos o modelo para o dispositivo configurado (CPU ou GPU).\n"
      ],
      "metadata": {
        "id": "icp2ayDBul-X"
      }
    },
    {
      "cell_type": "code",
      "execution_count": null,
      "metadata": {
        "colab": {
          "base_uri": "https://localhost:8080/"
        },
        "collapsed": true,
        "id": "M6qBjH4Hmkof",
        "outputId": "388d1157-09fe-453d-ce30-6a0d922e1187"
      },
      "outputs": [
        {
          "output_type": "stream",
          "name": "stderr",
          "text": [
            "/usr/local/lib/python3.10/dist-packages/torchvision/models/_utils.py:208: UserWarning: The parameter 'pretrained' is deprecated since 0.13 and may be removed in the future, please use 'weights' instead.\n",
            "  warnings.warn(\n",
            "/usr/local/lib/python3.10/dist-packages/torchvision/models/_utils.py:223: UserWarning: Arguments other than a weight enum or `None` for 'weights' are deprecated since 0.13 and may be removed in the future. The current behavior is equivalent to passing `weights=ResNet18_Weights.IMAGENET1K_V1`. You can also use `weights=ResNet18_Weights.DEFAULT` to get the most up-to-date weights.\n",
            "  warnings.warn(msg)\n"
          ]
        },
        {
          "output_type": "stream",
          "name": "stdout",
          "text": [
            "ResNet(\n",
            "  (conv1): Conv2d(3, 64, kernel_size=(7, 7), stride=(2, 2), padding=(3, 3), bias=False)\n",
            "  (bn1): BatchNorm2d(64, eps=1e-05, momentum=0.1, affine=True, track_running_stats=True)\n",
            "  (relu): ReLU(inplace=True)\n",
            "  (maxpool): MaxPool2d(kernel_size=3, stride=2, padding=1, dilation=1, ceil_mode=False)\n",
            "  (layer1): Sequential(\n",
            "    (0): BasicBlock(\n",
            "      (conv1): Conv2d(64, 64, kernel_size=(3, 3), stride=(1, 1), padding=(1, 1), bias=False)\n",
            "      (bn1): BatchNorm2d(64, eps=1e-05, momentum=0.1, affine=True, track_running_stats=True)\n",
            "      (relu): ReLU(inplace=True)\n",
            "      (conv2): Conv2d(64, 64, kernel_size=(3, 3), stride=(1, 1), padding=(1, 1), bias=False)\n",
            "      (bn2): BatchNorm2d(64, eps=1e-05, momentum=0.1, affine=True, track_running_stats=True)\n",
            "    )\n",
            "    (1): BasicBlock(\n",
            "      (conv1): Conv2d(64, 64, kernel_size=(3, 3), stride=(1, 1), padding=(1, 1), bias=False)\n",
            "      (bn1): BatchNorm2d(64, eps=1e-05, momentum=0.1, affine=True, track_running_stats=True)\n",
            "      (relu): ReLU(inplace=True)\n",
            "      (conv2): Conv2d(64, 64, kernel_size=(3, 3), stride=(1, 1), padding=(1, 1), bias=False)\n",
            "      (bn2): BatchNorm2d(64, eps=1e-05, momentum=0.1, affine=True, track_running_stats=True)\n",
            "    )\n",
            "  )\n",
            "  (layer2): Sequential(\n",
            "    (0): BasicBlock(\n",
            "      (conv1): Conv2d(64, 128, kernel_size=(3, 3), stride=(2, 2), padding=(1, 1), bias=False)\n",
            "      (bn1): BatchNorm2d(128, eps=1e-05, momentum=0.1, affine=True, track_running_stats=True)\n",
            "      (relu): ReLU(inplace=True)\n",
            "      (conv2): Conv2d(128, 128, kernel_size=(3, 3), stride=(1, 1), padding=(1, 1), bias=False)\n",
            "      (bn2): BatchNorm2d(128, eps=1e-05, momentum=0.1, affine=True, track_running_stats=True)\n",
            "      (downsample): Sequential(\n",
            "        (0): Conv2d(64, 128, kernel_size=(1, 1), stride=(2, 2), bias=False)\n",
            "        (1): BatchNorm2d(128, eps=1e-05, momentum=0.1, affine=True, track_running_stats=True)\n",
            "      )\n",
            "    )\n",
            "    (1): BasicBlock(\n",
            "      (conv1): Conv2d(128, 128, kernel_size=(3, 3), stride=(1, 1), padding=(1, 1), bias=False)\n",
            "      (bn1): BatchNorm2d(128, eps=1e-05, momentum=0.1, affine=True, track_running_stats=True)\n",
            "      (relu): ReLU(inplace=True)\n",
            "      (conv2): Conv2d(128, 128, kernel_size=(3, 3), stride=(1, 1), padding=(1, 1), bias=False)\n",
            "      (bn2): BatchNorm2d(128, eps=1e-05, momentum=0.1, affine=True, track_running_stats=True)\n",
            "    )\n",
            "  )\n",
            "  (layer3): Sequential(\n",
            "    (0): BasicBlock(\n",
            "      (conv1): Conv2d(128, 256, kernel_size=(3, 3), stride=(2, 2), padding=(1, 1), bias=False)\n",
            "      (bn1): BatchNorm2d(256, eps=1e-05, momentum=0.1, affine=True, track_running_stats=True)\n",
            "      (relu): ReLU(inplace=True)\n",
            "      (conv2): Conv2d(256, 256, kernel_size=(3, 3), stride=(1, 1), padding=(1, 1), bias=False)\n",
            "      (bn2): BatchNorm2d(256, eps=1e-05, momentum=0.1, affine=True, track_running_stats=True)\n",
            "      (downsample): Sequential(\n",
            "        (0): Conv2d(128, 256, kernel_size=(1, 1), stride=(2, 2), bias=False)\n",
            "        (1): BatchNorm2d(256, eps=1e-05, momentum=0.1, affine=True, track_running_stats=True)\n",
            "      )\n",
            "    )\n",
            "    (1): BasicBlock(\n",
            "      (conv1): Conv2d(256, 256, kernel_size=(3, 3), stride=(1, 1), padding=(1, 1), bias=False)\n",
            "      (bn1): BatchNorm2d(256, eps=1e-05, momentum=0.1, affine=True, track_running_stats=True)\n",
            "      (relu): ReLU(inplace=True)\n",
            "      (conv2): Conv2d(256, 256, kernel_size=(3, 3), stride=(1, 1), padding=(1, 1), bias=False)\n",
            "      (bn2): BatchNorm2d(256, eps=1e-05, momentum=0.1, affine=True, track_running_stats=True)\n",
            "    )\n",
            "  )\n",
            "  (layer4): Sequential(\n",
            "    (0): BasicBlock(\n",
            "      (conv1): Conv2d(256, 512, kernel_size=(3, 3), stride=(2, 2), padding=(1, 1), bias=False)\n",
            "      (bn1): BatchNorm2d(512, eps=1e-05, momentum=0.1, affine=True, track_running_stats=True)\n",
            "      (relu): ReLU(inplace=True)\n",
            "      (conv2): Conv2d(512, 512, kernel_size=(3, 3), stride=(1, 1), padding=(1, 1), bias=False)\n",
            "      (bn2): BatchNorm2d(512, eps=1e-05, momentum=0.1, affine=True, track_running_stats=True)\n",
            "      (downsample): Sequential(\n",
            "        (0): Conv2d(256, 512, kernel_size=(1, 1), stride=(2, 2), bias=False)\n",
            "        (1): BatchNorm2d(512, eps=1e-05, momentum=0.1, affine=True, track_running_stats=True)\n",
            "      )\n",
            "    )\n",
            "    (1): BasicBlock(\n",
            "      (conv1): Conv2d(512, 512, kernel_size=(3, 3), stride=(1, 1), padding=(1, 1), bias=False)\n",
            "      (bn1): BatchNorm2d(512, eps=1e-05, momentum=0.1, affine=True, track_running_stats=True)\n",
            "      (relu): ReLU(inplace=True)\n",
            "      (conv2): Conv2d(512, 512, kernel_size=(3, 3), stride=(1, 1), padding=(1, 1), bias=False)\n",
            "      (bn2): BatchNorm2d(512, eps=1e-05, momentum=0.1, affine=True, track_running_stats=True)\n",
            "    )\n",
            "  )\n",
            "  (avgpool): AdaptiveAvgPool2d(output_size=(1, 1))\n",
            "  (fc): Linear(in_features=512, out_features=200, bias=True)\n",
            ")\n"
          ]
        }
      ],
      "source": [
        "# Carregar o modelo ResNet pré-treinado\n",
        "net = models.resnet18(pretrained=True, progress=False).to(args['device'])\n",
        "net.fc = nn.Linear(in_features=512, out_features=200, bias=True).to(args['device'])\n",
        "# model = models.resnet50(pretrained=True)\n",
        "\n",
        "# # Congelar as camadas da ResNet\n",
        "# for param in model.parameters():\n",
        "#     param.requires_grad = False\n",
        "\n",
        "# # Modificar a última camada para o número de classes\n",
        "# model.fc = nn.Linear(model.fc.in_features, args['n_classes'])\n",
        "# model = model.to(args['device'])\n",
        "\n",
        "# Exibir modelo\n",
        "print(net)"
      ]
    },
    {
      "cell_type": "markdown",
      "source": [
        "# Configuração da Função de Perda e do Otimizador\n",
        "- Nesta etapa, definimos a função de perda (*criterion*) para calcular os erros durante o treinamento e configuramos o otimizador (*optimizer*) para ajustar os pesos do modelo com base nesses erros.\n"
      ],
      "metadata": {
        "id": "x_3WG45uuwan"
      }
    },
    {
      "cell_type": "code",
      "execution_count": null,
      "metadata": {
        "id": "I5TeN4ulm7Qw"
      },
      "outputs": [],
      "source": [
        "# Definir função de perda e otimizador\n",
        "optimizer = optim.Adam(net.parameters(),\n",
        "                       lr=args['lr'],\n",
        "                       betas=(args['momentum'], 0.999),\n",
        "                       weight_decay=args['weight_decay'])\n",
        "\n",
        "criterion = nn.CrossEntropyLoss().to(args['device'])\n",
        "\n",
        "# criterion = nn.CrossEntropyLoss()\n",
        "# optimizer = optim.Adam(net.fc.parameters(), args['lr'])"
      ]
    },
    {
      "cell_type": "markdown",
      "source": [
        "# Função de Treinamento\n",
        "- Nesta função, realizamos o treinamento do modelo para uma época. Inclui o cálculo da perda, atualização dos gradientes, e registro das métricas.\n"
      ],
      "metadata": {
        "id": "ViNmaUaRu5jx"
      }
    },
    {
      "cell_type": "code",
      "execution_count": null,
      "metadata": {
        "id": "uzqq4juenGIF"
      },
      "outputs": [],
      "source": [
        "# Listas para armazenar os valores de perda e acurácia durante o treinamento\n",
        "train_losses = []\n",
        "val_losses = []\n",
        "val_accuracies = []\n",
        "\n",
        "def train(train_loader, net, criterion, optimizer, epoch):\n",
        "    tic = time.time()\n",
        "\n",
        "    net.train()\n",
        "    train_loss = []\n",
        "\n",
        "    for i, batch_data in enumerate(train_loader):\n",
        "        inps, labs = batch_data\n",
        "        inps = inps.to(args['device'])\n",
        "        labs = labs.to(args['device'])\n",
        "\n",
        "        optimizer.zero_grad()\n",
        "        outs = net(inps)\n",
        "        loss = criterion(outs, labs)\n",
        "        loss.backward()\n",
        "        optimizer.step()\n",
        "\n",
        "        train_loss.append(loss.data.item())\n",
        "\n",
        "    toc = time.time()\n",
        "    train_loss = np.asarray(train_loss)\n",
        "\n",
        "    # Armazenar a média da perda de treinamento\n",
        "    train_losses.append(train_loss.mean())\n",
        "\n",
        "    print('--------------------------------------------------------------------')\n",
        "    print('[epoch %d], [train loss %.4f +/- %.4f], [training time %.2f]' % (\n",
        "        epoch, train_loss.mean(), train_loss.std(), (toc - tic)))\n",
        "    print('--------------------------------------------------------------------')\n",
        "\n",
        "def test(test_loader, net, criterion, epoch):\n",
        "    tic = time.time()\n",
        "\n",
        "    net.eval()\n",
        "    test_loss = []\n",
        "    prd_list = []\n",
        "    lab_list = []\n",
        "\n",
        "    for i, batch_data in enumerate(test_loader):\n",
        "        inps, labs = batch_data\n",
        "        inps = inps.to(args['device'])\n",
        "        labs = labs.to(args['device'])\n",
        "\n",
        "        outs = net(inps)\n",
        "        loss = criterion(outs, labs)\n",
        "        prds = outs.data.max(dim=1)[1].cpu().numpy()\n",
        "\n",
        "        test_loss.append(loss.data.item())\n",
        "        prd_list.extend(prds)\n",
        "        lab_list.extend(labs.detach().cpu().numpy())\n",
        "\n",
        "    toc = time.time()\n",
        "\n",
        "    acc = metrics.accuracy_score(np.array(lab_list), np.array(prd_list))\n",
        "    test_loss = np.asarray(test_loss)\n",
        "\n",
        "    # Armazenar a perda de validação e a acurácia\n",
        "    val_losses.append(test_loss.mean())\n",
        "    val_accuracies.append(acc)\n",
        "\n",
        "    print('--------------------------------------------------------------------')\n",
        "    print('[epoch %d], [test loss %.4f +/- %.4f], [acc %.4f], [testing time %.2f]' % (\n",
        "        epoch, test_loss.mean(), test_loss.std(), acc, (toc - tic)))\n",
        "    print('--------------------------------------------------------------------')\n"
      ]
    },
    {
      "cell_type": "markdown",
      "source": [
        "#Execução do loop principal de treinamento e validação do modelo.\n",
        "- Nesta etapa, o modelo é treinado usando os dados de treino em cada época e avaliado com os dados de validação, permitindo monitorar o desempenho e a evolução do aprendizado."
      ],
      "metadata": {
        "id": "nKXf9WFyvV56"
      }
    },
    {
      "cell_type": "code",
      "execution_count": null,
      "metadata": {
        "colab": {
          "base_uri": "https://localhost:8080/"
        },
        "id": "epHe8V5NoXtc",
        "outputId": "50e06043-4b41-438c-9860-74e053215ea8"
      },
      "outputs": [
        {
          "metadata": {
            "tags": null
          },
          "name": "stdout",
          "output_type": "stream",
          "text": [
            "--------------------------------------------------------------------\n",
            "[epoch 1], [train loss 3.9099 +/- 0.7765], [training time 2838.82]\n",
            "--------------------------------------------------------------------\n",
            "--------------------------------------------------------------------\n",
            "[epoch 1], [test loss 2.6844 +/- 0.1874], [acc 0.4779], [testing time 231.22]\n",
            "--------------------------------------------------------------------\n"
          ]
        },
        {
          "metadata": {
            "tags": null
          },
          "name": "stderr",
          "output_type": "stream",
          "text": [
            "/usr/local/lib/python3.10/dist-packages/torch/utils/data/dataloader.py:617: UserWarning: This DataLoader will create 4 worker processes in total. Our suggested max number of worker in current system is 2, which is smaller than what this DataLoader is going to create. Please be aware that excessive worker creation might get DataLoader running slow or even freeze, lower the worker number to avoid potential slowness/freeze if necessary.\n",
            "  warnings.warn(\n"
          ]
        },
        {
          "metadata": {
            "tags": null
          },
          "name": "stdout",
          "output_type": "stream",
          "text": [
            "--------------------------------------------------------------------\n",
            "[epoch 2], [train loss 1.9790 +/- 0.3021], [training time 2794.81]\n",
            "--------------------------------------------------------------------\n",
            "--------------------------------------------------------------------\n",
            "[epoch 2], [test loss 1.7683 +/- 0.1903], [acc 0.6209], [testing time 228.37]\n",
            "--------------------------------------------------------------------\n"
          ]
        },
        {
          "metadata": {
            "tags": null
          },
          "name": "stderr",
          "output_type": "stream",
          "text": [
            "/usr/local/lib/python3.10/dist-packages/torch/utils/data/dataloader.py:617: UserWarning: This DataLoader will create 4 worker processes in total. Our suggested max number of worker in current system is 2, which is smaller than what this DataLoader is going to create. Please be aware that excessive worker creation might get DataLoader running slow or even freeze, lower the worker number to avoid potential slowness/freeze if necessary.\n",
            "  warnings.warn(\n"
          ]
        },
        {
          "metadata": {
            "tags": null
          },
          "name": "stdout",
          "output_type": "stream",
          "text": [
            "--------------------------------------------------------------------\n",
            "[epoch 3], [train loss 1.0023 +/- 0.1608], [training time 2652.15]\n",
            "--------------------------------------------------------------------\n",
            "--------------------------------------------------------------------\n",
            "[epoch 3], [test loss 1.4202 +/- 0.2236], [acc 0.6709], [testing time 226.74]\n",
            "--------------------------------------------------------------------\n"
          ]
        },
        {
          "metadata": {
            "tags": null
          },
          "name": "stderr",
          "output_type": "stream",
          "text": [
            "/usr/local/lib/python3.10/dist-packages/torch/utils/data/dataloader.py:617: UserWarning: This DataLoader will create 4 worker processes in total. Our suggested max number of worker in current system is 2, which is smaller than what this DataLoader is going to create. Please be aware that excessive worker creation might get DataLoader running slow or even freeze, lower the worker number to avoid potential slowness/freeze if necessary.\n",
            "  warnings.warn(\n"
          ]
        },
        {
          "metadata": {
            "tags": null
          },
          "name": "stdout",
          "output_type": "stream",
          "text": [
            "--------------------------------------------------------------------\n",
            "[epoch 4], [train loss 0.4551 +/- 0.0967], [training time 2787.80]\n",
            "--------------------------------------------------------------------\n",
            "--------------------------------------------------------------------\n",
            "[epoch 4], [test loss 1.2400 +/- 0.2191], [acc 0.6976], [testing time 236.39]\n",
            "--------------------------------------------------------------------\n"
          ]
        },
        {
          "metadata": {
            "tags": null
          },
          "name": "stderr",
          "output_type": "stream",
          "text": [
            "/usr/local/lib/python3.10/dist-packages/torch/utils/data/dataloader.py:617: UserWarning: This DataLoader will create 4 worker processes in total. Our suggested max number of worker in current system is 2, which is smaller than what this DataLoader is going to create. Please be aware that excessive worker creation might get DataLoader running slow or even freeze, lower the worker number to avoid potential slowness/freeze if necessary.\n",
            "  warnings.warn(\n"
          ]
        },
        {
          "output_type": "stream",
          "name": "stdout",
          "text": [
            "--------------------------------------------------------------------\n",
            "[epoch 5], [train loss 0.1782 +/- 0.0432], [training time 4486.31]\n",
            "--------------------------------------------------------------------\n",
            "--------------------------------------------------------------------\n",
            "[epoch 5], [test loss 1.1986 +/- 0.2403], [acc 0.7125], [testing time 231.05]\n",
            "--------------------------------------------------------------------\n"
          ]
        }
      ],
      "source": [
        "for epoch in range(1, args['epoch_num'] + 1):\n",
        "    train(train_loader, net, criterion, optimizer, epoch)\n",
        "\n",
        "    test(val_loader, net, criterion, epoch)"
      ]
    },
    {
      "cell_type": "markdown",
      "source": [
        "#Gráficos"
      ],
      "metadata": {
        "id": "NQFcor3K4_j2"
      }
    },
    {
      "cell_type": "code",
      "source": [
        "# Plotar a perda de treinamento e validação\n",
        "plt.figure(figsize=(10, 5))\n",
        "plt.plot(range(1, args['epoch_num'] + 1), train_losses, label='Training Loss', color='blue')\n",
        "plt.plot(range(1, args['epoch_num'] + 1), val_losses, label='Validation Loss', color='red')\n",
        "plt.xlabel('Epochs')\n",
        "plt.ylabel('Loss')\n",
        "plt.title('Training and Validation Loss')\n",
        "plt.legend()\n",
        "plt.show()\n",
        "\n",
        "# Plotar a acurácia de validação\n",
        "plt.figure(figsize=(10, 5))\n",
        "plt.plot(range(1, args['epoch_num'] + 1), val_accuracies, label='Validation Accuracy', color='green')\n",
        "plt.xlabel('Epochs')\n",
        "plt.ylabel('Accuracy')\n",
        "plt.title('Validation Accuracy')\n",
        "plt.legend()\n",
        "plt.show()"
      ],
      "metadata": {
        "colab": {
          "base_uri": "https://localhost:8080/",
          "height": 957
        },
        "id": "ksz1bJOa5JiI",
        "outputId": "e61e6216-d8b2-47aa-9e3f-da8b703ea34f"
      },
      "execution_count": null,
      "outputs": [
        {
          "output_type": "display_data",
          "data": {
            "text/plain": [
              "<Figure size 1000x500 with 1 Axes>"
            ],
            "image/png": "[encoded data removed]"
          },
          "metadata": {}
        },
        {
          "output_type": "display_data",
          "data": {
            "text/plain": [
              "<Figure size 1000x500 with 1 Axes>"
            ],
            "image/png": "[encoded data removed]"
          },
          "metadata": {}
        }
      ]
    },
    {
      "cell_type": "markdown",
      "metadata": {
        "id": "M1MfxiS5R9g9"
      },
      "source": [
        "\n",
        "#Resultados\n",
        "##COM LR = 1e-3 :\n",
        "\n",
        "[epoch 1], [train loss 1.8912 +/- 0.2520], [training time 2567.12]\n",
        "\n",
        "\n",
        "[epoch 1], [test loss 2.6330 +/- 0.3762], [acc 0.3507], [testing time 223.69]\n",
        "\n",
        "\n",
        "[epoch 2], [train loss 1.5136 +/- 0.2548], [training time 2583.47]\n",
        "\n",
        "\n",
        "[epoch 2], [test loss 2.2927 +/- 0.3946], [acc 0.4020], [testing time 226.71]\n",
        "\n",
        "\n",
        "[epoch 3], [train loss 1.2271 +/- 0.2369], [training time 3199.46]\n",
        "\n",
        "\n",
        "[epoch 3], [test loss 2.0195 +/- 0.3286], [acc 0.4813], [testing time 209.73]\n",
        "\n",
        "\n",
        "[epoch 4], [train loss 0.9916 +/- 0.2375], [training time 4742.80]\n",
        "\n",
        "\n",
        "[epoch 4], [test loss 2.2644 +/- 0.3958], [acc 0.4258], [testing time 434.61]\n",
        "## COM LR = 1e-4 :\n",
        "[epoch 1], [train loss 3.9099 +/- 0.7765], [training time 2838.82]\n",
        "\n",
        "[epoch 1], [test loss 2.6844 +/- 0.1874], [acc 0.4779], [testing time 231.22]\n",
        "\n",
        "[epoch 2], [train loss 1.9790 +/- 0.3021], [training time 2794.81]\n",
        "\n",
        "[epoch 2], [test loss 1.7683 +/- 0.1903], [acc 0.6209], [testing time 228.37]\n",
        "\n",
        "[epoch 3], [train loss 1.0023 +/- 0.1608], [training time 2652.15]\n",
        "\n",
        "[epoch 3], [test loss 1.4202 +/- 0.2236], [acc 0.6709], [testing time 226.74]\n",
        "\n",
        "[epoch 4], [train loss 0.4551 +/- 0.0967], [training time 2787.80]\n",
        "\n",
        "[epoch 4], [test loss 1.2400 +/- 0.2191], [acc 0.6976], [testing time 236.39]\n",
        "\n",
        "[epoch 5], [train loss 0.1782 +/- 0.0432], [training time 4486.31]\n",
        "\n",
        "[epoch 5], [test loss 1.1986 +/- 0.2403], [acc 0.7125], [testing time 231.05]\n",
        "\n",
        "## COM LR = 1e-5 :\n",
        "\n",
        "[epoch 1], [train loss 5.2811 +/- 0.1808], [training time 2590.27]\n",
        "\n",
        "[epoch 1], [test loss 4.9964 +/- 0.1062], [acc 0.0348], [testing time 218.69]\n",
        "\n",
        "[epoch 2], [train loss 4.6925 +/- 0.1555], [training time 2527.63]\n",
        "\n",
        "[epoch 2], [test loss 4.4996 +/- 0.1158], [acc 0.1510], [testing time 225.65]\n",
        "\n",
        "[epoch 3], [train loss 4.1890 +/- 0.1433], [training time 2512.80]\n",
        "\n",
        "[epoch 3], [test loss 4.0690 +/- 0.1347], [acc 0.2523], [testing time 220.96]\n",
        "\n",
        "[epoch 4], [train loss 3.7763 +/- 0.1454], [training time 2918.52]\n",
        "\n",
        "[epoch 4], [test loss 3.7480 +/- 0.1424], [acc 0.3355], [testing time 215.07]\n",
        "\n",
        "[epoch 5], [train loss 3.4341 +/- 0.1451], [training time 5116.97]\n",
        "\n",
        "[epoch 5], [test loss 3.4468 +/- 0.1558], [acc 0.3944], [testing time 322.03]\n"
      ]
    }
  ],
  "metadata": {
    "colab": {
      "provenance": []
    },
    "kernelspec": {
      "display_name": "Python 3",
      "name": "python3"
    },
    "language_info": {
      "name": "python"
    }
  },
  "nbformat": 4,
  "nbformat_minor": 0
}